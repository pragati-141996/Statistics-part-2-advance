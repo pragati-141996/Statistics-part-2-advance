{
  "nbformat": 4,
  "nbformat_minor": 0,
  "metadata": {
    "colab": {
      "provenance": []
    },
    "kernelspec": {
      "name": "python3",
      "display_name": "Python 3"
    },
    "language_info": {
      "name": "python"
    }
  },
  "cells": [
    {
      "cell_type": "markdown",
      "source": [
        "#THEORY QUESTIONS"
      ],
      "metadata": {
        "id": "sn54KxaFzMR0"
      }
    },
    {
      "cell_type": "markdown",
      "source": [
        "1. What is hypothesis testing in statistics?\n",
        "-  Hypothesis testing is a statistical method used to decide whether there is enough evidence in a sample of data to support a specific belief (or hypothesis) about a population.\n",
        "\n",
        "\n",
        "2. What is the null hypothesis, and how does it differ from the alternative hypothesis?\n",
        "-  The null hypothesis is a formal statement in statistics that assumes no effect, no difference, or no relationship between variables. It serves as the default or starting point that we test against.Whereas,alternative hypothesis is a statement that contradicts the null hypothesis. It proposes that there is an effect, a difference, or a relationship between variables and is what researchers typically aim to support through data.\n",
        "\n",
        "3. What is the significance level in hypothesis testing, and why is it important?\n",
        "-  The significance level (denoted by α, alpha) is the threshold probability used in hypothesis testing to decide whether to reject the null hypothesis (H₀).It represents the maximum risk we are willing to take of making a Type I error — that is, rejecting a true null hypothesis.\n",
        "-  α = 0.05 (5%) – most commonly used\n",
        "-  α = 0.01 (1%) – more strict\n",
        "-  α = 0.10 (10%) – more lenient\n",
        "-  IMPORTANCE:\n",
        "-  Sets the decision boundary:If the p-value ≤ α, we reject H₀ (strong evidence against it).If the p-value > α, we fail to reject H₀ (not enough evidence).\n",
        "-  Controls false positives:A significance level of 0.05 means there is a 5% chance of saying something is true (rejecting H₀) when it’s actually false.\n",
        "-  Helps maintain scientific reliability:By setting a clear rule for decision-making, it ensures that results are not based on random chance.\n",
        "\n",
        "4. What does a P-value represent in hypothesis testing?\n",
        "-  In hypothesis testing, the p-value (or probability value) measures the probability of getting a result as extreme as, or more extreme than, the observed result, assuming that the null hypothesis (H₀) is true.\n",
        "\n",
        "5. How do you interpret the P-value in hypothesis testing?\n",
        "-  Small p-value (≤ α) — typically 0.05:The result is unlikely under the null hypothesis.We have strong evidence against H₀.Conclusion:Reject the null hypothesis.\n",
        "-  Large p-value (> α):The result is likely under the null hypothesis.\n",
        "We have weak or no evidence against H₀.Conclusion:Fail to reject the null hypothesis.\n",
        "\n",
        "6. What are Type 1 and Type 2 errors in hypothesis testing?\n",
        "-  In hypothesis testing, making a decision based on sample data always carries the risk of errors. These errors are categorized as Type I and Type II errors. A Type I error happens when we incorrectly reject the null hypothesis (H₀) even though it is actually true. In other words, we conclude that there is an effect or difference when, in reality, there isn't one. This is often called a false positive. The chance of making a Type I error is controlled by the significance level (α), which is commonly set at 0.05. This means there is a 5% risk of wrongly rejecting a true null hypothesis.On the other hand, a Type II error occurs when we fail to reject the null hypothesis when it is actually false. This means we miss detecting a real effect or difference, essentially saying there is no effect when there truly is one. This is known as a false negative. The probability of making a Type II error is denoted by β. Unlike α, β is not usually fixed beforehand but depends on factors such as sample size, effect size, and variability in the data. The power of a test, which is (1 - β), represents the probability of correctly rejecting a false null hypothesis.\n",
        "\n",
        "7. What is the difference between a one-tailed and a two-tailed test in hypothesis testing?\n",
        "-  A one-tailed test is used when you want to check for an effect in only one specific direction — either whether a parameter is greater than or less than a certain value, but not both.The alternative hypothesis (H₁) is directional, like:H₁: μ > 10 (greater than)or H₁: μ < 10 (less than).In a one-tailed test, the entire significance level (α) is placed on one side (tail) of the distribution.\n",
        "-  A two-tailed test is used when you want to check for an effect in both directions — whether a parameter is either greater than or less than a certain value.The alternative hypothesis is non-directional:H₁: μ ≠ 10 (not equal to 10).In a two-tailed test, the significance level (α) is split between both tails of the distribution — half on the left and half on the right.\n",
        "\n",
        "8. What is the Z-test, and when is it used in hypothesis testing?\n",
        "-  A Z-test is a type of statistical test used to determine whether there is a significant difference between a sample mean and a known population mean, or between the means of two samples, when the population variance is known or the sample size is large (usually n > 30). It relies on the Z-distribution (standard normal distribution) to calculate the test statistic and p-value.\n",
        "\n",
        "-  A Z-test is used in hypothesis testing when:\n",
        "-  We want to test the mean of a population and you know the population standard deviation (σ).Example: Testing if the average height of children in a city differs from the national average.\n",
        "-  The sample size is large (usually greater than 30), so by the Central Limit Theorem, the sampling distribution of the sample mean is approximately normal even if the population distribution is not normal.\n",
        "-  Comparing proportions from large samples, like testing if the proportion of people who like a product differs from a known value.\n",
        "\n",
        "\n",
        "9. How do you calculate the Z-score, and what does it represent in hypothesis testing?\n",
        "-  In hypothesis testing, the Z-score (or Z-statistic) is a measure that tells us how far our sample result is from the population mean, expressed in terms of standard deviations. It helps us understand whether the difference between what we observed in the sample and what we expected under the null hypothesis is small (likely due to chance) or large enough to be considered statistically significant.The Z-score tells us how many standard deviations away our sample mean is from the expected population mean. For example, a Z-score of 0 means the sample mean is exactly the same as the population mean. A Z-score of 2 means the sample mean is two standard deviations above the population mean, and a Z-score of -1.5 means it’s one and a half standard deviations below. In hypothesis testing, once we calculate the Z-score, we compare it to a critical value or use it to find the p-value. If the result falls in the “rejection region” — meaning it’s too far from what we’d expect if the null hypothesis were true — we reject the null hypothesis.The formula to calculate the Z-score is:$Z = \\frac{\\bar{x} - \\mu}{\\sigma / \\sqrt{n}}$ ,where ,𝑥 is the sample mean, 𝜇 is the population mean (assumed under the null hypothesis), 𝜎is the population standard deviation, and n is the sample size. This formula standardizes the difference between the sample mean and the population mean, taking into account the variability and size of the sample.\n",
        "\n",
        "10. What is the T-distribution, and when should it be used instead of the normal distribution?\n",
        "-   The T-distribution (also called the Student’s t-distribution) is a type of probability distribution that is similar to the normal distribution, but has fatter tails. These fatter tails account for extra variability when working with small sample sizes or unknown population standard deviation.We should use the T-distribution instead of the normal (Z) distribution when:\n",
        "-   The sample size is small (typically n < 30).\n",
        "-   The population standard deviation (σ) is unknown.\n",
        "-   The population is approximately normally distributed, or the sample is large enough for the Central Limit Theorem to apply.\n",
        "\n",
        "11. What is the difference between a Z-test and a T-test?\n",
        "-   The Z-test and the T-test are both statistical methods used to test hypotheses about population means, but they differ in when and how they are used. A Z-test is used when the population standard deviation (σ) is known and the sample size is large, typically 30 or more. It relies on the standard normal distribution (also known as the Z-distribution), which is a symmetric, bell-shaped curve. Since the standard deviation is known and the sample is large, the results from a Z-test are considered more precise.\n",
        "In contrast, the T-test is used when the population standard deviation is unknown and the sample size is small, usually less than 30. It uses the T-distribution, which looks similar to the normal distribution but has fatter tails. These fatter tails account for the extra uncertainty that comes with smaller samples and unknown variability. As the sample size increases, the T-distribution gradually becomes closer to the normal distribution, and the difference between the Z-test and T-test becomes less significant.\n",
        "\n",
        "12. What is the T-test, and how is it used in hypothesis testing?\n",
        "-   A T-test is a statistical method used in hypothesis testing to determine whether there is a significant difference between the means of two groups or between a sample mean and a known value. It is especially useful when the sample size is small (usually less than 30) and the population standard deviation is unknown. The T-test relies on the T-distribution, which has fatter tails than the normal distribution to account for the extra uncertainty in small samples.In hypothesis testing, we often start with a null hypothesis (H₀) that says there's no difference between two means (for example, that a new medicine has no effect). The alternative hypothesis (H₁) claims that there is a difference. We use the T-test to calculate a T-statistic, which tells us how far the observed sample mean is from the expected mean under the null hypothesis, in terms of standard errors.We then compare the T-statistic to a critical value from the T-distribution table, based on the significance level (α) and the degrees of freedom. If the T-statistic is beyond the critical value, or if the p-value is less than α (usually 0.05), we reject the null hypothesis, suggesting that the difference is statistically significant.\n",
        "\n",
        "13. What is the relationship between Z-test and T-test in hypothesis testing?\n",
        "-   Both tests compare sample data to a population value to decide if the difference is real or just due to chance.Both use a test statistic (either Z or T) to calculate a p-value or compare to a critical value.The Z-test is used when the population standard deviation (σ) is known and the sample size is large (usually n ≥ 30).The T-test is used when the population standard deviation is unknown and the sample size is small (usually n < 30).The T-test is like an adjusted version of the Z-test that adds extra caution for small samples. As the sample size gets larger, the T-distribution becomes more like the normal distribution, and the T-test behaves like a Z-test.\n",
        "\n",
        "14. What is a confidence interval, and how is it used to interpret statistical results?\n",
        "-   A confidence interval (CI) is a range of values that we use to estimate an unknown population parameter (like the mean or proportion). It tells us how much uncertainty is in our estimate and provides a margin of error around our sample result.The confidence interval is usually written like this:Confidence Interval=sample estimate±margin of error.In hypothesis testing and estimation:The confidence level (like 95%) means that if we repeated the experiment many times, about 95% of those confidence intervals would contain the true population value.A narrow confidence interval means a more precise estimate, while a wide interval means more uncertainty.In testing hypotheses, if the confidence interval does not include the value from the null hypothesis (e.g., mean = 0), then we often reject the null hypothesis.\n",
        "\n",
        "15. What is the margin of error, and how does it affect the confidence interval?\n",
        "-   The margin of error is the extra amount we add and subtract from a sample estimate (like a mean or proportion) to create a confidence interval. It reflects the amount of uncertainty or possible error in our estimate due to working with just a sample rather than the entire population.A larger margin of error → gives a wider confidence interval, meaning less precision.A smaller margin of error → gives a narrower confidence interval, meaning more precision.\n",
        "\n",
        "16. How is Bayes' Theorem used in statistics, and what is its significance?\n",
        "-   Bayes' Theorem is a fundamental concept in statistics used to update the probability of a hypothesis or event based on new evidence or information. It connects prior knowledge with new data to form a posterior probability—our updated belief after seeing the evidence.\n",
        "-   USAGE IN STATISTICS:\n",
        "-   Updating Beliefs:In fields like medicine, we update the probability of a disease (A) based on test results (B). For example, if someone tests positive, Bayes' Theorem helps calculate how likely they truly have the disease.\n",
        "-   Diagnostic Testing:Bayes is crucial in calculating false positives/negatives and refining the accuracy of medical or machine learning tests.\n",
        "-   Spam Filtering:Email systems use Bayes' Theorem to determine the likelihood an email is spam based on the words it contains.\n",
        "-   Machine Learning / Bayesian Inference:It helps estimate unknown parameters by combining prior knowledge with observed data (used in Naive Bayes Classifier).\n",
        "-   Decision Making Under Uncertainty:Helps in adjusting predictions or decisions when new information becomes available.\n",
        "-   SIGNIFICANCE:\n",
        "-   Realistic modeling: Reflects how humans often think—updating beliefs as new evidence arrives.\n",
        "-   Bridges prior knowledge and data: Integrates both old and new information.\n",
        "-   Foundation for Bayesian Statistics: A powerful alternative to traditional (frequentist) methods, especially when data is limited or noisy.\n",
        "\n",
        "17. What is the Chi-square distribution, and when is it used?\n",
        "-   The Chi-square distribution is a special type of probability distribution used mostly in hypothesis testing, especially when working with categorical data (like colors, gender, yes/no responses).It shows the distribution of the sum of the squares of independent standard normal variables.\n",
        "-   USAGE:\n",
        "-   Chi-square Test for Independence:Purpose: To see if two categorical variables are related.Example: Is there a relationship between gender and preference for online shopping?We create a contingency table (cross-tab of counts).We compare observed counts (actual data) with expected counts (what we'd expect if there's no relationship).A large difference gives a high chi-square statistic → possibly not independent.\n",
        "-   Chi-square Goodness of Fit Test:Purpose: To check if a sample matches a known distribution.Example: Is a die fair (i.e., does each number come up equally)?We calculate how far the observed values are from the expected values.Big differences → high chi-square statistic → data doesn’t fit the expected model.\n",
        "-   Chi-square Test for Homogeneity:Purpose: To check whether different groups share the same proportions.Example: Do different regions prefer the same political party?\n",
        "\n",
        "18. What is the Chi-square goodness of fit test, and how is it applied?\n",
        "-   The Chi-square goodness of fit test is applied when we want to determine whether the distribution of observed categorical data matches an expected distribution. To begin, we first define a null hypothesis, which usually states that the observed frequencies follow a specific distribution (like equal probability for each category), and an alternative hypothesis, which suggests that the observed distribution is significantly different from what we expected.Next, we calculate the expected frequencies for each category. These are the values we would expect to see if the null hypothesis were true. Then, we use the Chi-square formula.After computing the Chi-square statistic, we determine the degrees of freedom, which is the number of categories minus one. Using this, we compare the Chi-square value to a critical value from the Chi-square distribution table or use a statistical software to find the p-value.If the Chi-square value is greater than the critical value, or the p-value is less than the significance level (like 0.05), we reject the null hypothesis, meaning the observed data does not fit the expected distribution. If not, we fail to reject the null hypothesis, meaning the data fits the expected pattern reasonably well. This test is widely used in fields like genetics, marketing, and social sciences where checking how well data fits theoretical expectations is important.\n",
        "\n",
        "19. What is the F-distribution, and when is it used in hypothesis testing?\n",
        "-   The F-distribution is a type of probability distribution that is used to compare two variances. It is:Right-skewed (it looks like a curve that rises sharply and then slowly goes down).Always positive, because it’s a ratio of squared values (variances can't be negative).Described by two degrees of freedom:𝑑𝑓1 = degrees of freedom in the numerator,df2 = degrees of freedom in the denominator.The F-distribution is formed when we take the ratio of two independent sample variances that follow a chi-square distribution.\n",
        "-   USAGE:\n",
        "-   Compare Two Variances:Used in the F-test for equality of variances.\n",
        "For example: “Do two different machines produce products with the same variability?”\n",
        "-   ANOVA (Analysis of Variance):Used to test if three or more group means are equal.For example: “Do different teaching methods lead to different average test scores?”\n",
        "-   Regression Analysis:Used to test if a regression model is statistically significant — i.e., whether at least one of the predictors explains variability in the outcome.\n",
        "\n",
        "20. What is an ANOVA test, and what are its assumptions?\n",
        "-   ANOVA (Analysis of Variance):Used to test if three or more group means are equal.For example: “Do different teaching methods lead to different average test scores?”\n",
        "-   ASSUMPTIONS:\n",
        "-   Independence of observations:Each data point must be independent from the others.Example: Students in one group should not influence the scores of another group.\n",
        "-   Normality:The data in each group should be approximately normally distributed.This can be checked using:Histograms,Q-Q plots,Shapiro-Wilk test (statistical normality test)\n",
        "-   Homogeneity of variances (Equal variances):The variances of the different groups should be roughly equal.This can be tested using:Levene’s test,Bartlett’s testIf variances are not equal, we may use Welch’s ANOVA, which adjusts for this.\n",
        "\n",
        "21. What are the different types of ANOVA tests?\n",
        "-   There are several types of ANOVA (Analysis of Variance) tests, and each is used based on the structure of the experiment or the data. Here's a comprehensive breakdown of the main types:\n",
        "-   One-Way ANOVA (Single-Factor ANOVA):Purpose:Used to compare the means of three or more independent groups based on one independent variable (factor).Example:Testing whether three different diets have different effects on weight loss.Hypothesis:H₀: All group means are equal,H₁: At least one group mean is different\n",
        "-   Two-Way ANOVA (Factorial ANOVA):Purpose:Used when there are two independent variables. It checks:The effect of each factor individually (main effects)The interaction effect between the two factors.Example:\n",
        "Studying the effect of diet type (A, B, C) and exercise level (low, high) on weight loss.Hypotheses tested:Does diet have an effect?,Does exercise have an effect?,Do diet and exercise interact to affect weight loss?\n",
        "-   Repeated Measures ANOVA:Purpose:Used when the same subjects are measured under different conditions or over time.Example:Measuring students' test scores before, during, and after a training program.Benefit:\n",
        "It accounts for individual variability, which increases statistical power.\n",
        "-   Mixed-Design ANOVA (Split-Plot ANOVA):Purpose:Combines both between-subjects and within-subjects factors.Example:Between-subjects: Different therapy groups (Group A, B, C).Within-subjects: Measuring anxiety levels over 3 time pointsThis test handles repeated measures and group comparisons in one model.\n",
        "-   MANOVA (Multivariate Analysis of Variance):Purpose:Extension of ANOVA when there are two or more dependent variables.Example:Comparing the effects of different teaching methods on math scores, science scores, and language scores simultaneously.Key Point:Accounts for correlation between dependent variables, which separate ANOVAs cannot do.\n",
        "\n",
        "22. What is the F-test, and how does it relate to hypothesis testing?\n",
        "-   The F-test is a statistical test that uses the F-distribution to compare variances or to assess whether group means differ significantly in tests like ANOVA.In hypothesis testing, the F-test is used to evaluate:\n",
        "-   Equality of variances:Null hypothesis (H₀): Variances are equal,Alternative hypothesis (H₁): Variances are not equal.We calculate the ratio of two sample variances and compare it to the F-distribution.\n",
        "-   Differences between group means (ANOVA):Null hypothesis (H₀): All group means are equal,Alternative hypothesis (H₁): At least one group mean is different.The F-test compares the variance between group means to the variance within groups.If the ratio (F-statistic) is large, it suggests group means are different enough to reject H₀.\n",
        "-   Significance of regression models:The F-test checks if your regression model explains a significant amount of variance in the outcome compared to a model with no predictors.\n",
        "\n",
        "\n",
        "\n",
        "\n",
        "\n",
        "\n",
        "\n",
        "\n",
        "\n",
        "\n",
        "\n",
        "\n",
        "\n",
        "\n",
        "\n",
        "\n",
        "\n"
      ],
      "metadata": {
        "id": "bHrctkRszSuD"
      }
    },
    {
      "cell_type": "markdown",
      "source": [
        "# PRACTICAL PART 1"
      ],
      "metadata": {
        "id": "9KlbKxOdPKhV"
      }
    },
    {
      "cell_type": "markdown",
      "source": [
        "1. Write a Python program to generate a random variable and display its value."
      ],
      "metadata": {
        "id": "mDMTvf1gPOR5"
      }
    },
    {
      "cell_type": "code",
      "execution_count": null,
      "metadata": {
        "id": "m1pqP8qIysJI",
        "colab": {
          "base_uri": "https://localhost:8080/"
        },
        "outputId": "5e109310-48c2-43ae-c481-1a37f9ab9094"
      },
      "outputs": [
        {
          "output_type": "stream",
          "name": "stdout",
          "text": [
            "87\n"
          ]
        }
      ],
      "source": [
        "import random\n",
        "random_value=random.randint(1,100)\n",
        "print(random_value)"
      ]
    },
    {
      "cell_type": "markdown",
      "source": [
        "2. Generate a discrete uniform distribution using Python and plot the probability mass function (PMF)."
      ],
      "metadata": {
        "id": "cgjkYJ36PxzS"
      }
    },
    {
      "cell_type": "code",
      "source": [
        "import numpy as np\n",
        "import matplotlib.pyplot as plt\n",
        "from scipy.stats import randint\n",
        "low=1\n",
        "high=7\n",
        "dist=randint(low,high)\n",
        "x=np.arange(low,high)\n",
        "pmf=dist.pmf(x)\n",
        "plt.bar(x,pmf)\n",
        "plt.xlabel(\"Value\")\n",
        "plt.ylabel(\"Probability\")\n",
        "plt.show()"
      ],
      "metadata": {
        "id": "d1bhMrQbPwgx",
        "colab": {
          "base_uri": "https://localhost:8080/",
          "height": 449
        },
        "outputId": "c826bf2f-7779-4354-9586-3451f0b29c53"
      },
      "execution_count": null,
      "outputs": [
        {
          "output_type": "display_data",
          "data": {
            "text/plain": [
              "<Figure size 640x480 with 1 Axes>"
            ],
            "image/png": "[encoded data removed]"
          },
          "metadata": {}
        }
      ]
    },
    {
      "cell_type": "markdown",
      "source": [
        "3. Write a Python function to calculate the probability distribution function (PDF) of a Bernoulli distribution."
      ],
      "metadata": {
        "id": "ccix-EXmLeJM"
      }
    },
    {
      "cell_type": "code",
      "source": [
        "def bernoulli_pdf(x,p):\n",
        "    if x==0:\n",
        "        return 1-p\n",
        "    elif x==1:\n",
        "        return p\n",
        "    else:\n",
        "        return 0\n",
        "print(bernoulli_pdf(2,0.8))"
      ],
      "metadata": {
        "colab": {
          "base_uri": "https://localhost:8080/"
        },
        "id": "j8q4BkpkLivJ",
        "outputId": "1e2f5cd8-0ceb-4a3d-a5ab-95c23175effa"
      },
      "execution_count": null,
      "outputs": [
        {
          "output_type": "stream",
          "name": "stdout",
          "text": [
            "0\n"
          ]
        }
      ]
    },
    {
      "cell_type": "markdown",
      "source": [
        "4. Write a Python script to simulate a binomial distribution with n=10 and p=0.5, then plot its histogram."
      ],
      "metadata": {
        "id": "sCXn50tENy23"
      }
    },
    {
      "cell_type": "code",
      "source": [
        "import numpy as np\n",
        "import matplotlib.pyplot as plt\n",
        "n=10\n",
        "p=0.5\n",
        "size=10000\n",
        "data=np.random.binomial(n=n,p=p,size=size)\n",
        "plt.hist(data)\n",
        "plt.show()"
      ],
      "metadata": {
        "colab": {
          "base_uri": "https://localhost:8080/",
          "height": 430
        },
        "id": "zfxXEF8SN4Gg",
        "outputId": "dc252d98-ae53-44b3-ae48-b838490f4421"
      },
      "execution_count": null,
      "outputs": [
        {
          "output_type": "display_data",
          "data": {
            "text/plain": [
              "<Figure size 640x480 with 1 Axes>"
            ],
            "image/png": "[encoded data removed]"
          },
          "metadata": {}
        }
      ]
    },
    {
      "cell_type": "markdown",
      "source": [
        "5. Create a Poisson distribution and visualize it using Python."
      ],
      "metadata": {
        "id": "mTbfMbEpSs3G"
      }
    },
    {
      "cell_type": "code",
      "source": [
        "import numpy as np\n",
        "import matplotlib.pyplot as plt\n",
        "from scipy.stats import poisson\n",
        "lam=4\n",
        "x=np.arange(0,20)\n",
        "pmf=poisson.pmf(x,lam)\n",
        "plt.bar(x,pmf)\n",
        "plt.show()"
      ],
      "metadata": {
        "id": "eTrtPDRePssB",
        "colab": {
          "base_uri": "https://localhost:8080/",
          "height": 430
        },
        "outputId": "2f3b56ad-2bae-4087-c984-e56fb6ace012"
      },
      "execution_count": null,
      "outputs": [
        {
          "output_type": "display_data",
          "data": {
            "text/plain": [
              "<Figure size 640x480 with 1 Axes>"
            ],
            "image/png": "[encoded data removed]"
          },
          "metadata": {}
        }
      ]
    },
    {
      "cell_type": "markdown",
      "source": [
        "6. Write a Python program to calculate and plot the cumulative distribution function (CDF) of a discrete\n",
        "uniform distribution."
      ],
      "metadata": {
        "id": "gjEIRKLNVZih"
      }
    },
    {
      "cell_type": "code",
      "source": [
        "import numpy as np\n",
        "import matplotlib.pyplot as plt\n",
        "x=np.arange(1,7)\n",
        "pmf=np.ones(6)/6\n",
        "cdf=np.cumsum(pmf)\n",
        "plt.bar(x,cdf)\n",
        "plt.show()"
      ],
      "metadata": {
        "colab": {
          "base_uri": "https://localhost:8080/",
          "height": 430
        },
        "id": "l7LEYBguVOBX",
        "outputId": "bedd9ff8-53b4-4176-e0a8-13693f90147e"
      },
      "execution_count": null,
      "outputs": [
        {
          "output_type": "display_data",
          "data": {
            "text/plain": [
              "<Figure size 640x480 with 1 Axes>"
            ],
            "image/png": "[encoded data removed]"
          },
          "metadata": {}
        }
      ]
    },
    {
      "cell_type": "markdown",
      "source": [
        "7. Generate a continuous uniform distribution using NumPy and visualize it."
      ],
      "metadata": {
        "id": "o4Ux1G1hYuAr"
      }
    },
    {
      "cell_type": "code",
      "source": [
        "import numpy as np\n",
        "import matplotlib.pyplot as plt\n",
        "data=np.random.uniform(2,8,10000)\n",
        "plt.hist(data,bins=30)\n",
        "plt.show()"
      ],
      "metadata": {
        "colab": {
          "base_uri": "https://localhost:8080/",
          "height": 430
        },
        "id": "AkNoFRW7YQ1w",
        "outputId": "0ff3c894-c31d-4cde-fc0b-7087b9a61e4e"
      },
      "execution_count": null,
      "outputs": [
        {
          "output_type": "display_data",
          "data": {
            "text/plain": [
              "<Figure size 640x480 with 1 Axes>"
            ],
            "image/png": "[encoded data removed]"
          },
          "metadata": {}
        }
      ]
    },
    {
      "cell_type": "markdown",
      "source": [
        "8. Simulate data from a normal distribution and plot its histogram."
      ],
      "metadata": {
        "id": "MWZ46psvbaLM"
      }
    },
    {
      "cell_type": "code",
      "source": [
        "import numpy as np\n",
        "import matplotlib.pyplot as plt\n",
        "data=np.random.normal(0,1,10000)\n",
        "plt.hist(data)\n",
        "plt.show()"
      ],
      "metadata": {
        "colab": {
          "base_uri": "https://localhost:8080/",
          "height": 430
        },
        "id": "wcg8U6PZbeYc",
        "outputId": "073dc8f6-0b32-4914-bfb6-1241b6843c0b"
      },
      "execution_count": null,
      "outputs": [
        {
          "output_type": "display_data",
          "data": {
            "text/plain": [
              "<Figure size 640x480 with 1 Axes>"
            ],
            "image/png": "[encoded data removed]"
          },
          "metadata": {}
        }
      ]
    },
    {
      "cell_type": "markdown",
      "source": [
        "9. Write a Python function to calculate Z-scores from a dataset and plot them."
      ],
      "metadata": {
        "id": "UlnEC4cecRM3"
      }
    },
    {
      "cell_type": "code",
      "source": [
        "import numpy as np\n",
        "import matplotlib.pyplot as plt\n",
        "data=np.random.normal(0,1,10000)\n",
        "mean=np.mean(data)\n",
        "std=np.std(data)\n",
        "z_scores=(data-mean)/std\n",
        "plt.hist(z_scores)\n",
        "plt.show()"
      ],
      "metadata": {
        "colab": {
          "base_uri": "https://localhost:8080/",
          "height": 430
        },
        "id": "rYZxPtYucWXw",
        "outputId": "70503ac3-32c0-450f-d24e-3e5ba2c0995b"
      },
      "execution_count": null,
      "outputs": [
        {
          "output_type": "display_data",
          "data": {
            "text/plain": [
              "<Figure size 640x480 with 1 Axes>"
            ],
            "image/png": "[encoded data removed]"
          },
          "metadata": {}
        }
      ]
    },
    {
      "cell_type": "markdown",
      "source": [
        "10. Implement the Central Limit Theorem (CLT) using Python for a non-normal distribution."
      ],
      "metadata": {
        "id": "UY3RSPPtdmCN"
      }
    },
    {
      "cell_type": "code",
      "source": [
        "import numpy as np\n",
        "import matplotlib.pyplot as plt\n",
        "data=np.random.exponential(1,10000)\n",
        "samples=np.random.choice(data,size=(1000,50))\n",
        "samples_mean=samples.mean(axis=1)\n",
        "plt.hist(samples_mean)\n",
        "plt.show()"
      ],
      "metadata": {
        "colab": {
          "base_uri": "https://localhost:8080/",
          "height": 430
        },
        "id": "zAzFOFbxav4p",
        "outputId": "50db6571-fb3f-4d81-faf0-862c9cfd5ad8"
      },
      "execution_count": null,
      "outputs": [
        {
          "output_type": "display_data",
          "data": {
            "text/plain": [
              "<Figure size 640x480 with 1 Axes>"
            ],
            "image/png": "[encoded data removed]"
          },
          "metadata": {}
        }
      ]
    },
    {
      "cell_type": "markdown",
      "source": [
        "11. Simulate multiple samples from a normal distribution and verify the Central Limit Theorem."
      ],
      "metadata": {
        "id": "UGVy0v9RhzGo"
      }
    },
    {
      "cell_type": "code",
      "source": [
        "import numpy as np\n",
        "import matplotlib.pyplot as plt\n",
        "data=np.random.normal(loc=100, scale=15, size=100000)\n",
        "samples=np.random.choice(data,size=(1000,50))\n",
        "samples_mean=samples.mean(axis=1)\n",
        "plt.hist(samples_mean)\n",
        "plt.show()"
      ],
      "metadata": {
        "colab": {
          "base_uri": "https://localhost:8080/",
          "height": 430
        },
        "id": "5aFpr2-Ah3gl",
        "outputId": "90981ee1-c72b-4960-ef9e-c57cfc59194b"
      },
      "execution_count": null,
      "outputs": [
        {
          "output_type": "display_data",
          "data": {
            "text/plain": [
              "<Figure size 640x480 with 1 Axes>"
            ],
            "image/png": "[encoded data removed]"
          },
          "metadata": {}
        }
      ]
    },
    {
      "cell_type": "markdown",
      "source": [
        "12. Write a Python function to calculate and plot the standard normal distribution (mean = 0, std = 1)."
      ],
      "metadata": {
        "id": "cF2V0oq5j5Jo"
      }
    },
    {
      "cell_type": "code",
      "source": [
        "import numpy as np\n",
        "import matplotlib.pyplot as plt\n",
        "x=np.linspace(-4,4,1000)\n",
        "y=(1/np.sqrt(2*np.pi))*np.exp(-0.5*x**2)\n",
        "plt.plot(x,y)\n",
        "plt.show()"
      ],
      "metadata": {
        "id": "PDU-liHIhfap",
        "colab": {
          "base_uri": "https://localhost:8080/",
          "height": 430
        },
        "outputId": "99f147d3-95cb-40d6-eb44-e7cd1b9e0677"
      },
      "execution_count": null,
      "outputs": [
        {
          "output_type": "display_data",
          "data": {
            "text/plain": [
              "<Figure size 640x480 with 1 Axes>"
            ],
            "image/png": "[encoded data removed]"
          },
          "metadata": {}
        }
      ]
    },
    {
      "cell_type": "markdown",
      "source": [
        "13. Generate random variables and calculate their corresponding probabilities using the binomial distribution."
      ],
      "metadata": {
        "id": "YO0cQpSiNblT"
      }
    },
    {
      "cell_type": "code",
      "source": [
        "import numpy as np\n",
        "import matplotlib.pyplot as plt\n",
        "import math\n",
        "n=10\n",
        "p=0.5\n",
        "random_vars=np.random.binomial(10,0.5,1000)\n",
        "k=np.arange(0,n+1)\n",
        "combinations=np.array([math.comb(n,ki) for ki in k])\n",
        "probabilities=combinations*(p**k)*((1-p)**(n-k))\n",
        "plt.hist(random_vars)\n",
        "plt.bar(k,probabilities)\n",
        "plt.show()"
      ],
      "metadata": {
        "colab": {
          "base_uri": "https://localhost:8080/",
          "height": 430
        },
        "id": "y-fgQFebNC4r",
        "outputId": "53734e9a-4184-415a-b779-d1e3faba5e5d"
      },
      "execution_count": null,
      "outputs": [
        {
          "output_type": "display_data",
          "data": {
            "text/plain": [
              "<Figure size 640x480 with 1 Axes>"
            ],
            "image/png": "[encoded data removed]"
          },
          "metadata": {}
        }
      ]
    },
    {
      "cell_type": "markdown",
      "source": [
        "14. Write a Python program to calculate the Z-score for a given data point and compare it to a standard normal\n",
        "distribution."
      ],
      "metadata": {
        "id": "0fgwhVntbNe8"
      }
    },
    {
      "cell_type": "code",
      "source": [
        "import numpy as np\n",
        "import matplotlib.pyplot as plt\n",
        "from scipy.stats import norm\n",
        "data=75\n",
        "mean=70\n",
        "std_dev=5\n",
        "z_score=(data-mean)/std_dev\n",
        "print(z_score)\n",
        "x=np.linspace(-4,4,1000)\n",
        "y=norm.pdf(x,0,1)\n",
        "plt.plot(x,y)\n",
        "plt.axvline(z_score)\n",
        "plt.show()"
      ],
      "metadata": {
        "id": "PC2hLClbbR4Y",
        "colab": {
          "base_uri": "https://localhost:8080/",
          "height": 447
        },
        "outputId": "1c006728-d3f6-4570-94ab-bc0fcee017fb"
      },
      "execution_count": null,
      "outputs": [
        {
          "output_type": "stream",
          "name": "stdout",
          "text": [
            "1.0\n"
          ]
        },
        {
          "output_type": "display_data",
          "data": {
            "text/plain": [
              "<Figure size 640x480 with 1 Axes>"
            ],
            "image/png": "[encoded data removed]"
          },
          "metadata": {}
        }
      ]
    },
    {
      "cell_type": "markdown",
      "source": [
        "15. Implement hypothesis testing using Z-statistics for a sample dataset."
      ],
      "metadata": {
        "id": "Q9VitalngUrL"
      }
    },
    {
      "cell_type": "code",
      "source": [
        "import numpy as np\n",
        "from scipy.stats import norm\n",
        "population_mean=100\n",
        "population_std=15\n",
        "np.random.seed(0)\n",
        "sample=np.random.normal(102,15,50)\n",
        "sample_mean=np.mean(sample)\n",
        "sample_size=len(sample)\n",
        "z_score=(sample_mean-population_mean)/(population_std/np.sqrt(sample_size))\n",
        "p_value=2*(1-norm.cdf(abs(z_score)))\n",
        "alpha=0.05\n",
        "print(sample_mean)\n",
        "print(z_score)\n",
        "print(p_value)\n",
        "if p_value<alpha:\n",
        "    print(\"Reject the null hypothesis:significant difference detected\")\n",
        "else:\n",
        "    print(\"Fail to reject the null hypothesis:no significant difference\")"
      ],
      "metadata": {
        "colab": {
          "base_uri": "https://localhost:8080/"
        },
        "id": "bIXilPpvgZKI",
        "outputId": "4ea2bf99-5bb8-459b-ef5f-ebc38cdbc022"
      },
      "execution_count": null,
      "outputs": [
        {
          "output_type": "stream",
          "name": "stdout",
          "text": [
            "104.10838908469648\n",
            "1.9367131876944512\n",
            "0.052780412800939036\n",
            "Fail to reject the null hypothesis:no significant difference\n"
          ]
        }
      ]
    },
    {
      "cell_type": "markdown",
      "source": [
        "16. Create a confidence interval for a dataset using Python and interpret the result."
      ],
      "metadata": {
        "id": "LTQb5YqHqN_O"
      }
    },
    {
      "cell_type": "code",
      "source": [
        "import numpy as np\n",
        "from scipy.stats import norm\n",
        "np.random.seed(0)\n",
        "sample=np.random.normal(50,10,100)\n",
        "sample_mean=np.mean(sample)\n",
        "sample_std=np.std(sample,ddof=1)\n",
        "sample_size=len(sample)\n",
        "confidence_level=0.95\n",
        "alpha=1-confidence_level\n",
        "z_critical=norm.ppf(1-alpha/2)\n",
        "margin_of_error=z_critical*(sample_std/np.sqrt(sample_size))\n",
        "lower_bound=sample_mean-margin_of_error\n",
        "upper_bound=sample_mean+margin_of_error\n",
        "print(lower_bound)\n",
        "print(upper_bound)\n",
        "print(sample_mean)"
      ],
      "metadata": {
        "colab": {
          "base_uri": "https://localhost:8080/"
        },
        "id": "1hNIkUDWqScX",
        "outputId": "6e7dbc92-d40f-4ed3-ec3e-79da5702fce9"
      },
      "execution_count": null,
      "outputs": [
        {
          "output_type": "stream",
          "name": "stdout",
          "text": [
            "48.612715489790574\n",
            "52.5834448208991\n",
            "50.59808015534484\n"
          ]
        }
      ]
    },
    {
      "cell_type": "markdown",
      "source": [
        "17. Generate data from a normal distribution, then calculate and interpret the confidence interval for its mean."
      ],
      "metadata": {
        "id": "8wudDxfWP3Kp"
      }
    },
    {
      "cell_type": "code",
      "source": [
        "import numpy as np\n",
        "from scipy.stats import norm\n",
        "np.random.seed(0)\n",
        "sample=np.random.normal(50,10,100)\n",
        "sample_mean=np.mean(sample)\n",
        "sample_std=np.std(sample,ddof=1)\n",
        "sample_size=len(sample)\n",
        "confidence_level=0.95\n",
        "alpha=1-confidence_level\n",
        "z_critical=norm.ppf(1-alpha/2)\n",
        "margin_of_error=z_critical*(sample_std/np.sqrt(sample_size))\n",
        "lower_bound=sample_mean-margin_of_error\n",
        "upper_bound=sample_mean+margin_of_error\n",
        "print(lower_bound)\n",
        "print(upper_bound)\n",
        "print(sample_mean)"
      ],
      "metadata": {
        "id": "wTlZ5aTXaRKp",
        "colab": {
          "base_uri": "https://localhost:8080/"
        },
        "outputId": "745e87d7-b868-49ff-871c-d1001dcf9441"
      },
      "execution_count": null,
      "outputs": [
        {
          "output_type": "stream",
          "name": "stdout",
          "text": [
            "48.612715489790574\n",
            "52.5834448208991\n",
            "50.59808015534484\n"
          ]
        }
      ]
    },
    {
      "cell_type": "markdown",
      "source": [
        "18. Write a Python script to calculate and visualize the probability density function (PDF) of a normal distribution."
      ],
      "metadata": {
        "id": "Vv5MO0LMRRNH"
      }
    },
    {
      "cell_type": "code",
      "source": [
        "import numpy as np\n",
        "import matplotlib.pyplot as plt\n",
        "from scipy.stats import norm\n",
        "mean=0\n",
        "std_dev=1\n",
        "x=np.linspace(mean - 4*std_dev, mean + 4*std_dev, 1000)\n",
        "pdf_values=norm.pdf(x,mean,std_dev)\n",
        "plt.plot(x,pdf_values)\n",
        "plt.show()"
      ],
      "metadata": {
        "colab": {
          "base_uri": "https://localhost:8080/",
          "height": 430
        },
        "id": "4w0VL36vRPzo",
        "outputId": "5801af32-b884-4ced-e682-d95e7acd80b5"
      },
      "execution_count": null,
      "outputs": [
        {
          "output_type": "display_data",
          "data": {
            "text/plain": [
              "<Figure size 640x480 with 1 Axes>"
            ],
            "image/png": "[encoded data removed]"
          },
          "metadata": {}
        }
      ]
    },
    {
      "cell_type": "markdown",
      "source": [
        "19. Use Python to calculate and interpret the cumulative distribution function (CDF) of a Poisson distribution."
      ],
      "metadata": {
        "id": "5ugyBuk3XfBo"
      }
    },
    {
      "cell_type": "code",
      "source": [
        "from scipy.stats import poisson\n",
        "lambda_val=3\n",
        "k=5\n",
        "cdf_value=poisson.cdf(k,mu=lambda_val)\n",
        "print(cdf_value)"
      ],
      "metadata": {
        "colab": {
          "base_uri": "https://localhost:8080/"
        },
        "id": "MwfgMj5JXqTp",
        "outputId": "dd8d3d1f-69de-4f9b-f32c-f0cdccad7ec7"
      },
      "execution_count": null,
      "outputs": [
        {
          "output_type": "stream",
          "name": "stdout",
          "text": [
            "0.9160820579686966\n"
          ]
        }
      ]
    },
    {
      "cell_type": "markdown",
      "source": [
        "-   There is a 91.61% chance that 5 or fewer events will occur in the given time or space interval, if the average number of events is 3."
      ],
      "metadata": {
        "id": "_1PA6-tnazzy"
      }
    },
    {
      "cell_type": "markdown",
      "source": [
        "20. Simulate a random variable using a continuous uniform distribution and calculate its expected value."
      ],
      "metadata": {
        "id": "Awbj87csa33o"
      }
    },
    {
      "cell_type": "code",
      "source": [
        "import numpy as np\n",
        "a=2\n",
        "b=8\n",
        "samples=np.random.uniform(a,b,size=10000)\n",
        "sample_mean=np.mean(samples)\n",
        "theoretical_mean=(a+b)/2\n",
        "print(sample_mean)\n",
        "print(theoretical_mean)"
      ],
      "metadata": {
        "colab": {
          "base_uri": "https://localhost:8080/"
        },
        "id": "Al14erRoa_07",
        "outputId": "9bb3d27d-8947-4cbb-fede-0545ba8acfb2"
      },
      "execution_count": null,
      "outputs": [
        {
          "output_type": "stream",
          "name": "stdout",
          "text": [
            "4.976456137419673\n",
            "5.0\n"
          ]
        }
      ]
    },
    {
      "cell_type": "markdown",
      "source": [
        "21. Write a Python program to compare the standard deviations of two datasets and visualize the difference."
      ],
      "metadata": {
        "id": "UNRwYXMVc-6f"
      }
    },
    {
      "cell_type": "code",
      "source": [
        "import numpy as np\n",
        "import matplotlib.pyplot as plt\n",
        "np.random.seed(42)\n",
        "data1=np.random.normal(50,5,100)\n",
        "data2=np.random.normal(50,10,100)\n",
        "std1=np.std(data1,ddof=1)\n",
        "std2=np.std(data2,ddof=1)\n",
        "mean1=np.mean(data1)\n",
        "mean2=np.mean(data2)\n",
        "print(std1)\n",
        "print(std2)\n",
        "print(mean1)\n",
        "print(mean2)\n",
        "plt.bar([\"Data set 1\",\"Data set 2\"],[mean1,mean2],yerr=[std1,std2])\n",
        "plt.show()"
      ],
      "metadata": {
        "colab": {
          "base_uri": "https://localhost:8080/",
          "height": 499
        },
        "id": "QEO3juKldEHu",
        "outputId": "d087a08a-9348-4c89-aafe-59e3029eaa8d"
      },
      "execution_count": null,
      "outputs": [
        {
          "output_type": "stream",
          "name": "stdout",
          "text": [
            "4.540842140039003\n",
            "9.536689661831037\n",
            "49.48076741302953\n",
            "50.223045870499234\n"
          ]
        },
        {
          "output_type": "display_data",
          "data": {
            "text/plain": [
              "<Figure size 640x480 with 1 Axes>"
            ],
            "image/png": "[encoded data removed]"
          },
          "metadata": {}
        }
      ]
    },
    {
      "cell_type": "markdown",
      "source": [
        "22. Calculate the range and interquartile range (IQR) of a dataset generated from a normal distribution."
      ],
      "metadata": {
        "id": "78LN57X9gZOg"
      }
    },
    {
      "cell_type": "code",
      "source": [
        "import numpy as np\n",
        "np.random.seed(0)\n",
        "data=np.random.normal(50,10,1000)\n",
        "data_range=np.max(data)-np.min(data)\n",
        "q1=np.percentile(data,25)\n",
        "q3=np.percentile(data,75)\n",
        "iqr=q3-q1\n",
        "print(data_range)\n",
        "print(iqr)"
      ],
      "metadata": {
        "colab": {
          "base_uri": "https://localhost:8080/"
        },
        "id": "QDeRg8ATXT83",
        "outputId": "41c46b42-9ff5-40fe-ff6e-20f175e713a5"
      },
      "execution_count": null,
      "outputs": [
        {
          "output_type": "stream",
          "name": "stdout",
          "text": [
            "58.05498168821509\n",
            "13.053706612482685\n"
          ]
        }
      ]
    },
    {
      "cell_type": "markdown",
      "source": [
        "23. Implement Z-score normalization on a dataset and visualize its transformation."
      ],
      "metadata": {
        "id": "-DGARUyZh0b7"
      }
    },
    {
      "cell_type": "code",
      "source": [
        "import numpy as np\n",
        "import matplotlib.pyplot as plt\n",
        "np.random.seed(0)\n",
        "data=np.random.normal(60,15,1000)\n",
        "mean=np.mean(data)\n",
        "std=np.std(data)\n",
        "z_score=(data-mean)/std\n",
        "plt.subplot(1,2,1)\n",
        "plt.hist(data)\n",
        "plt.subplot(1,2,2)\n",
        "plt.hist(z_score)\n",
        "plt.show()"
      ],
      "metadata": {
        "colab": {
          "base_uri": "https://localhost:8080/",
          "height": 434
        },
        "id": "sqdjIg8Yhxyp",
        "outputId": "9a8ef8f6-d16d-48fa-c6ee-1e918f9a0eef"
      },
      "execution_count": null,
      "outputs": [
        {
          "output_type": "display_data",
          "data": {
            "text/plain": [
              "<Figure size 640x480 with 2 Axes>"
            ],
            "image/png": "[encoded data removed]"
          },
          "metadata": {}
        }
      ]
    },
    {
      "cell_type": "markdown",
      "source": [
        "24. Write a Python function to calculate the skewness and kurtosis of a dataset generated from a normal\n",
        "distribution."
      ],
      "metadata": {
        "id": "9ElMZwe7kXIP"
      }
    },
    {
      "cell_type": "code",
      "source": [
        "import numpy as np\n",
        "from scipy.stats import skew,kurtosis\n",
        "np.random.seed(0)\n",
        "data=np.random.normal(0,1,1000)\n",
        "skewness=skew(data)\n",
        "kurtosis=kurtosis(data)\n",
        "print(skewness)\n",
        "print(kurtosis)"
      ],
      "metadata": {
        "colab": {
          "base_uri": "https://localhost:8080/"
        },
        "id": "L2B8Tfdukbd1",
        "outputId": "0406a5d6-161d-40a4-e4b1-ee2708485fb6"
      },
      "execution_count": null,
      "outputs": [
        {
          "output_type": "stream",
          "name": "stdout",
          "text": [
            "0.03385895323565712\n",
            "-0.0467663244783294\n"
          ]
        }
      ]
    },
    {
      "cell_type": "markdown",
      "source": [
        "# PRACTICAL PART 2"
      ],
      "metadata": {
        "id": "deuLyDF6nD1u"
      }
    },
    {
      "cell_type": "markdown",
      "source": [
        "1. Write a Python program to perform a Z-test for comparing a sample mean to a known population mean and\n",
        "interpret the results."
      ],
      "metadata": {
        "id": "9ODJO4zAnHdX"
      }
    },
    {
      "cell_type": "code",
      "source": [
        "import numpy as np\n",
        "from scipy.stats import norm\n",
        "data = [110, 98, 102, 105, 95, 108, 103, 99, 101, 97]\n",
        "pop_mean=100\n",
        "pop_std=15\n",
        "sample_mean=np.mean(data)\n",
        "n=len(data)\n",
        "z=(sample_mean-pop_mean)/(pop_std/np.sqrt(n))\n",
        "alpha=0.05\n",
        "z_critical=norm.ppf(1-alpha/2)\n",
        "print(sample_mean)\n",
        "print(z)\n",
        "print(z_critical)\n",
        "if abs(z)>z_critical:\n",
        "    print(\"Sample mean is significantly different from population mean\")\n",
        "else:\n",
        "    print(\"Sample mean is not significantly different from population mean\")"
      ],
      "metadata": {
        "id": "DN_0hCdgnLKR",
        "colab": {
          "base_uri": "https://localhost:8080/"
        },
        "outputId": "0d1c2240-6de3-41c2-e375-d77582fc7597"
      },
      "execution_count": null,
      "outputs": [
        {
          "output_type": "stream",
          "name": "stdout",
          "text": [
            "101.8\n",
            "0.37947331922020494\n",
            "1.959963984540054\n",
            "Sample mean is not significantly different from population mean\n"
          ]
        }
      ]
    },
    {
      "cell_type": "markdown",
      "source": [
        "2. Simulate random data to perform hypothesis testing and calculate the corresponding P-value using Python."
      ],
      "metadata": {
        "id": "PZkzNmPEfyc3"
      }
    },
    {
      "cell_type": "code",
      "source": [
        "import numpy as np\n",
        "from scipy.stats import norm\n",
        "pop_mean=50\n",
        "pop_std=10\n",
        "np.random.seed(42)\n",
        "sample=np.random.normal(52,10,40)\n",
        "sample_mean=np.mean(sample)\n",
        "n=len(sample)\n",
        "z=(sample_mean-pop_mean)/(pop_std/np.sqrt(n))\n",
        "p_value=2*(1-norm.cdf(abs(z)))\n",
        "print(sample_mean)\n",
        "print(z)\n",
        "print(p_value)\n",
        "alpha=0.05\n",
        "if p_value<alpha:\n",
        "    print(\"Reject the null hypothesis:significant difference detected\")\n",
        "else:\n",
        "    print(\"Fail to reject the null hypothesis:no significant difference\")"
      ],
      "metadata": {
        "colab": {
          "base_uri": "https://localhost:8080/"
        },
        "id": "5_1fLnVxf2eI",
        "outputId": "8dba77c0-5c3b-4385-e24c-51cc9fba19ce"
      },
      "execution_count": null,
      "outputs": [
        {
          "output_type": "stream",
          "name": "stdout",
          "text": [
            "49.813631615820604\n",
            "-0.11786971557043623\n",
            "0.9061708894114413\n",
            "Fail to reject the null hypothesis:no significant difference\n"
          ]
        }
      ]
    },
    {
      "cell_type": "markdown",
      "source": [
        "3. Implement a one-sample Z-test using Python to compare the sample mean with the population mean."
      ],
      "metadata": {
        "id": "ZvvZfLj2ii4d"
      }
    },
    {
      "cell_type": "code",
      "source": [
        "import numpy as np\n",
        "from scipy.stats import norm\n",
        "pop_mean=100\n",
        "pop_std=15\n",
        "np.random.seed(42)\n",
        "sample=np.random.normal(105,15,50)\n",
        "sample_mean=np.mean(sample)\n",
        "n=len(sample)\n",
        "z=(sample_mean-pop_mean)/(pop_std/np.sqrt(n))\n",
        "p_value=2*(1-norm.cdf(abs(z)))\n",
        "print(sample_mean)\n",
        "print(z)\n",
        "print(p_value)\n",
        "alpha=0.05\n",
        "if p_value<alpha:\n",
        "    print(\"Reject the null hypothesis:significant difference detected\")\n",
        "else:\n",
        "    print(\"Fail to reject the null hypothesis:no significant difference\")"
      ],
      "metadata": {
        "colab": {
          "base_uri": "https://localhost:8080/"
        },
        "id": "95h7WIN_inWJ",
        "outputId": "226888bc-94ee-49dc-a9d8-d9ec3920c565"
      },
      "execution_count": null,
      "outputs": [
        {
          "output_type": "stream",
          "name": "stdout",
          "text": [
            "101.61789142115789\n",
            "0.7626813300828578\n",
            "0.44565346759081104\n",
            "Fail to reject the null hypothesis:no significant difference\n"
          ]
        }
      ]
    },
    {
      "cell_type": "markdown",
      "source": [
        "4. Perform a two-tailed Z-test using Python and visualize the decision region on a plot."
      ],
      "metadata": {
        "id": "_u5vo812qGb-"
      }
    },
    {
      "cell_type": "code",
      "source": [
        "import numpy as np\n",
        "from scipy.stats import norm\n",
        "import matplotlib.pyplot as plt\n",
        "pop_mean=100\n",
        "pop_std=15\n",
        "np.random.seed(42)\n",
        "sample=np.random.normal(105,15,50)\n",
        "sample_mean=np.mean(sample)\n",
        "n=len(sample)\n",
        "z=(sample_mean-pop_mean)/(pop_std/np.sqrt(n))\n",
        "p_value=2*(1-norm.cdf(abs(z)))\n",
        "print(sample_mean)\n",
        "print(z)\n",
        "print(p_value)\n",
        "alpha=0.05\n",
        "if p_value<alpha:\n",
        "    print(\"Reject the null hypothesis:significant difference detected\")\n",
        "else:\n",
        "    print(\"Fail to reject the null hypothesis:no significant difference\")\n",
        "x=np.linspace(-4,4,1000)\n",
        "y=norm.pdf(x)\n",
        "plt.axvline(z)\n",
        "plt.fill_between(\n",
        "    x,\n",
        "    y,\n",
        "    where=(x < -z_critical) | (x > z_critical),\n",
        "    color='red',\n",
        "    alpha=0.3,\n",
        "    label='Rejection region'\n",
        ")\n",
        "plt.legend()\n",
        "plt.plot(x,y)\n",
        "plt.show()"
      ],
      "metadata": {
        "colab": {
          "base_uri": "https://localhost:8080/",
          "height": 499
        },
        "id": "S5bZz3E0qM-J",
        "outputId": "bb024e7c-925f-429b-c8e7-9820502415f0"
      },
      "execution_count": null,
      "outputs": [
        {
          "output_type": "stream",
          "name": "stdout",
          "text": [
            "101.61789142115789\n",
            "0.7626813300828578\n",
            "0.44565346759081104\n",
            "Fail to reject the null hypothesis:no significant difference\n"
          ]
        },
        {
          "output_type": "display_data",
          "data": {
            "text/plain": [
              "<Figure size 640x480 with 1 Axes>"
            ],
            "image/png": "[encoded data removed]"
          },
          "metadata": {}
        }
      ]
    },
    {
      "cell_type": "markdown",
      "source": [
        "5. Create a Python function that calculates and visualizes Type 1 and Type 2 errors during hypothesis testing."
      ],
      "metadata": {
        "id": "PpqUvCKitxIj"
      }
    },
    {
      "cell_type": "code",
      "source": [
        "import numpy as np\n",
        "import matplotlib.pyplot as plt\n",
        "from scipy.stats import norm\n",
        "mu=0\n",
        "mu1=1\n",
        "sigma=1\n",
        "n=25\n",
        "alpha=0.05\n",
        "se=sigma/np.sqrt(n)\n",
        "z_critical=norm.ppf(1-alpha/2)\n",
        "x_crit_left=mu-z_critical*se\n",
        "x_crit_right=mu+z_critical*se\n",
        "x=np.linspace(mu-4*sigma,mu+4*sigma,1000)\n",
        "y_H0=norm.pdf(x,mu,se)\n",
        "y_H1=norm.pdf(x,mu1,se)\n",
        "plt.plot(x,y_H0)\n",
        "plt.plot(x,y_H1)\n",
        "plt.fill_between(x,y_H0,where=(x<x_crit_left)|(x>x_crit_right),color=\"blue\",label=\"Type I error\")\n",
        "plt.fill_between(x,y_H1,where=(x<x_crit_left)|(x>x_crit_right),color=\"orange\",label=\"Type II error\")\n",
        "plt.axvline(x_crit_left,color=\"red\")\n",
        "plt.axvline(x_crit_right,color=\"red\")\n",
        "plt.legend()\n",
        "plt.show()"
      ],
      "metadata": {
        "id": "RpoHAwvat1X1",
        "colab": {
          "base_uri": "https://localhost:8080/",
          "height": 430
        },
        "outputId": "97a28063-a8d8-47cb-dc11-b977ef403a3b"
      },
      "execution_count": null,
      "outputs": [
        {
          "output_type": "display_data",
          "data": {
            "text/plain": [
              "<Figure size 640x480 with 1 Axes>"
            ],
            "image/png": "[encoded data removed]"
          },
          "metadata": {}
        }
      ]
    },
    {
      "cell_type": "markdown",
      "source": [
        "6. Write a Python program to perform an independent T-test and interpret the results."
      ],
      "metadata": {
        "id": "lFscAOGNZa8Q"
      }
    },
    {
      "cell_type": "code",
      "source": [
        "from scipy.stats import ttest_ind\n",
        "group1 = [10, 12, 13, 9, 11]\n",
        "group2 = [14, 16, 15, 17, 16]\n",
        "t_stat,p_value=ttest_ind(group1,group2)\n",
        "print(t_stat)\n",
        "print(p_value)\n",
        "if p_value < 0.05:\n",
        "    print(\"Groups are significantly different (reject H0).\")\n",
        "else:\n",
        "    print(\"No significant difference (fail to reject H0).\")"
      ],
      "metadata": {
        "id": "SY0dQUGgiurI",
        "colab": {
          "base_uri": "https://localhost:8080/"
        },
        "outputId": "075525a0-3554-4345-8dca-6e224acc731a"
      },
      "execution_count": null,
      "outputs": [
        {
          "output_type": "stream",
          "name": "stdout",
          "text": [
            "-5.27656187902292\n",
            "0.0007493176296417865\n",
            "Groups are significantly different (reject H0).\n"
          ]
        }
      ]
    },
    {
      "cell_type": "markdown",
      "source": [
        "7. Perform a paired sample T-test using Python and visualize the comparison results."
      ],
      "metadata": {
        "id": "NsLhSDq3eH1-"
      }
    },
    {
      "cell_type": "code",
      "source": [
        "import numpy as np\n",
        "import matplotlib.pyplot as plt\n",
        "from scipy.stats import ttest_rel\n",
        "before = [85, 88, 90, 87, 93, 91, 89]\n",
        "after =  [87, 90, 92, 88, 95, 94, 90]\n",
        "t_stat,p_value=ttest_rel(before,after)\n",
        "print(t_stat)\n",
        "print(p_value)\n",
        "if p_value < 0.05:\n",
        "    print(\"Groups are significantly different (reject H0).\")\n",
        "else:\n",
        "    print(\"No significant difference (fail to reject H0).\")\n",
        "x_labels=range(len(before))\n",
        "width=0.35\n",
        "plt.bar([x-width/2 for x in x_labels],before,width=width,label=\"Before\",color=\"blue\")\n",
        "plt.bar([x+width/2 for x in x_labels],after,width=width,label=\"After\",color=\"red\")\n",
        "plt.xlabel(\"Subjects\")\n",
        "plt.ylabel(\"Scores\")\n",
        "plt.title(\"BEFORE AND AFTER SCORES\")\n",
        "plt.xticks(x_labels)\n",
        "plt.legend()\n",
        "plt.grid(axis=\"y\")\n",
        "plt.show()"
      ],
      "metadata": {
        "colab": {
          "base_uri": "https://localhost:8080/",
          "height": 524
        },
        "id": "M0UmDa_weNYm",
        "outputId": "cb308e08-a5f2-4bb0-e4ce-a39efe1f118e"
      },
      "execution_count": null,
      "outputs": [
        {
          "output_type": "stream",
          "name": "stdout",
          "text": [
            "-7.120393247567159\n",
            "0.000386002709731829\n",
            "Groups are significantly different (reject H0).\n"
          ]
        },
        {
          "output_type": "display_data",
          "data": {
            "text/plain": [
              "<Figure size 640x480 with 1 Axes>"
            ],
            "image/png": "[encoded data removed]"
          },
          "metadata": {}
        }
      ]
    },
    {
      "cell_type": "markdown",
      "source": [
        "8. Simulate data and perform both Z-test and T-test, then compare the results using Python."
      ],
      "metadata": {
        "id": "LmqbZC_kwCJc"
      }
    },
    {
      "cell_type": "code",
      "source": [
        "import numpy as np\n",
        "from scipy.stats import ttest_ind,norm\n",
        "group1=np.random.normal(50,10,30)\n",
        "group2=np.random.normal(55,10,30)\n",
        "t_p=ttest_ind(group1,group2)\n",
        "print(t_p)\n",
        "mean1=np.mean(group1)\n",
        "mean2=np.mean(group2)\n",
        "std1=np.std(group1)\n",
        "std2=np.std(group2)\n",
        "n1=len(group1)\n",
        "n2=len(group2)\n",
        "se=np.sqrt((std1**2/n1)+(std2**2/n2))\n",
        "z=(mean1-mean2)/se\n",
        "z_p=2*(1-norm.cdf(abs(z)))\n",
        "print(z_p)\n",
        "alpha = 0.05\n",
        "if t_p.pvalue < alpha:\n",
        "    print(\"T-test: Significant difference (Reject H0)\")\n",
        "else:\n",
        "    print(\"T-test: No significant difference (Fail to reject H0)\")\n",
        "\n",
        "if z_p < alpha:\n",
        "    print(\"Z-test: Significant difference (Reject H0)\")\n",
        "else:\n",
        "    print(\"Z-test: No significant difference (Fail to reject H0)\")"
      ],
      "metadata": {
        "colab": {
          "base_uri": "https://localhost:8080/"
        },
        "id": "GH9XswU0wGJG",
        "outputId": "ada26380-0639-42ee-93dc-6cfe4fd515bf"
      },
      "execution_count": null,
      "outputs": [
        {
          "output_type": "stream",
          "name": "stdout",
          "text": [
            "TtestResult(statistic=np.float64(-1.8731147651950864), pvalue=np.float64(0.06609474296727146), df=np.float64(58.0))\n",
            "0.05676237659516059\n",
            "T-test: No significant difference (Fail to reject H0)\n",
            "Z-test: No significant difference (Fail to reject H0)\n"
          ]
        }
      ]
    },
    {
      "cell_type": "markdown",
      "source": [
        "9. Write a Python function to calculate the confidence interval for a sample mean and explain its significance."
      ],
      "metadata": {
        "id": "E48ui2lw1fNF"
      }
    },
    {
      "cell_type": "code",
      "source": [
        "import numpy as np\n",
        "from scipy.stats import norm\n",
        "data = [45, 50, 55, 60, 65, 70, 75]\n",
        "sample_mean=np.mean(data)\n",
        "sample_std=np.std(data,ddof=1)\n",
        "n=len(data)\n",
        "confidence_level=0.95\n",
        "z_critical=norm.ppf(1-(1-confidence_level)/2)\n",
        "se=sample_std/np.sqrt(n)\n",
        "margin_of_error=z_critical*se\n",
        "lower_bound=sample_mean-margin_of_error\n",
        "upper_bound=sample_mean+margin_of_error\n",
        "print(lower_bound)\n",
        "print(upper_bound)"
      ],
      "metadata": {
        "id": "ZZ2At1ZIdyX3",
        "colab": {
          "base_uri": "https://localhost:8080/"
        },
        "outputId": "b70f4b1c-50b2-4301-8387-cb50aae194d9"
      },
      "execution_count": null,
      "outputs": [
        {
          "output_type": "stream",
          "name": "stdout",
          "text": [
            "51.99848053940782\n",
            "68.00151946059218\n"
          ]
        }
      ]
    },
    {
      "cell_type": "markdown",
      "source": [
        "-  We are 95% confident that the true average (mean) of the population lies somewhere between 51.99 and 68.00."
      ],
      "metadata": {
        "id": "JpBl-Zv05EKu"
      }
    },
    {
      "cell_type": "markdown",
      "source": [
        "10. Write a Python program to calculate the margin of error for a given confidence level using sample data."
      ],
      "metadata": {
        "id": "7_SSquEi5OaV"
      }
    },
    {
      "cell_type": "code",
      "source": [
        "import numpy as np\n",
        "from scipy.stats import norm\n",
        "data = [45, 50, 55, 60, 65, 70, 75]\n",
        "sample_mean=np.mean(data)\n",
        "sample_std=np.std(data,ddof=1)\n",
        "n=len(data)\n",
        "confidence_level=0.95\n",
        "z_critical=norm.ppf(1-(1-confidence_level)/2)\n",
        "se=sample_std/np.sqrt(n)\n",
        "margin_of_error=z_critical*se\n",
        "print(margin_of_error)"
      ],
      "metadata": {
        "colab": {
          "base_uri": "https://localhost:8080/"
        },
        "id": "EtTH0LgY5T04",
        "outputId": "e2968c0e-3807-4be3-b262-eaebebc3b0bf"
      },
      "execution_count": null,
      "outputs": [
        {
          "output_type": "stream",
          "name": "stdout",
          "text": [
            "8.001519460592181\n"
          ]
        }
      ]
    },
    {
      "cell_type": "markdown",
      "source": [
        "11. Implement a Bayesian inference method using Bayes' Theorem in Python and explain the process."
      ],
      "metadata": {
        "id": "mEHUi1tZ6Dj7"
      }
    },
    {
      "cell_type": "code",
      "source": [
        "P_Disease=0.01\n",
        "P_NoDisease=1-P_Disease\n",
        "P_Positive_Disease=0.99\n",
        "P_Positive_NoDisease=0.5\n",
        "P_Positive=(P_Disease*P_Positive_Disease)+(P_NoDisease*P_Positive_NoDisease)\n",
        "P_Disease_Positive=(P_Disease*P_Positive_Disease)/P_Positive\n",
        "print(P_Disease_Positive)\n"
      ],
      "metadata": {
        "colab": {
          "base_uri": "https://localhost:8080/"
        },
        "id": "3uSKdfqI42qL",
        "outputId": "2ef5f3cb-cf6a-427c-e622-de542e9411d9"
      },
      "execution_count": null,
      "outputs": [
        {
          "output_type": "stream",
          "name": "stdout",
          "text": [
            "0.0196078431372549\n"
          ]
        }
      ]
    },
    {
      "cell_type": "markdown",
      "source": [
        "-   Even though the test is 99% accurate, the actual chance you have the disease after testing positive is only ~16.7%.Because the disease is rare, and false positives are much more common than actual positives in the population."
      ],
      "metadata": {
        "id": "ho5Ea-Gm-FEd"
      }
    },
    {
      "cell_type": "markdown",
      "source": [
        "12. Perform a Chi-square test for independence between two categorical variables in Python."
      ],
      "metadata": {
        "id": "EInMxPER-Jf_"
      }
    },
    {
      "cell_type": "code",
      "source": [
        "from scipy.stats import chi2_contingency\n",
        "data = [[20, 30],[30, 20]]\n",
        "chi2,p,dof,expected=chi2_contingency(data)\n",
        "print(chi2)\n",
        "print(p)\n",
        "if p < 0.05:\n",
        "    print(\"Variables are dependent (reject null hypothesis).\")\n",
        "else:\n",
        "    print(\"Variables are independent (fail to reject null hypothesis).\")"
      ],
      "metadata": {
        "colab": {
          "base_uri": "https://localhost:8080/"
        },
        "id": "JHTKVMTS-OzB",
        "outputId": "57b53008-8c7e-4552-cc60-af77e848f75d"
      },
      "execution_count": null,
      "outputs": [
        {
          "output_type": "stream",
          "name": "stdout",
          "text": [
            "3.24\n",
            "0.07186063822585143\n",
            "Variables are independent (fail to reject null hypothesis).\n"
          ]
        }
      ]
    },
    {
      "cell_type": "markdown",
      "source": [
        "13. Write a Python program to calculate the expected frequencies for a Chi-square test based on observed\n",
        "data."
      ],
      "metadata": {
        "id": "FzQg_ROaJz4k"
      }
    },
    {
      "cell_type": "code",
      "source": [
        "import numpy as np\n",
        "from scipy.stats import chi2_contingency\n",
        "data = [[20, 30],[30, 20]]\n",
        "chi2,p,dof,expected=chi2_contingency(data)\n",
        "print(chi2)\n",
        "print(expected)"
      ],
      "metadata": {
        "colab": {
          "base_uri": "https://localhost:8080/"
        },
        "id": "5l7Cn7RiJ4kh",
        "outputId": "54049b0a-0eb6-450e-e10f-f209fcea87ab"
      },
      "execution_count": null,
      "outputs": [
        {
          "output_type": "stream",
          "name": "stdout",
          "text": [
            "3.24\n",
            "[[25. 25.]\n",
            " [25. 25.]]\n"
          ]
        }
      ]
    },
    {
      "cell_type": "markdown",
      "source": [
        "14. Perform a goodness-of-fit test using Python to compare the observed data to an expected distribution."
      ],
      "metadata": {
        "id": "eNFU2uByMEEb"
      }
    },
    {
      "cell_type": "code",
      "source": [
        "from scipy.stats import chisquare\n",
        "observed = [8, 9, 10, 11, 12, 10]\n",
        "expected = [10, 10, 10, 10, 10, 10]\n",
        "chi2_stat,p_value=chisquare(observed,expected)\n",
        "print(chi2_stat)\n",
        "print(p_value)\n",
        "if p_value < 0.05:\n",
        "    print(\"Reject the null hypothesis: Observed data does NOT fit the expected distribution.\")\n",
        "else:\n",
        "    print(\"Fail to reject the null hypothesis: Observed data fits the expected distribution.\")"
      ],
      "metadata": {
        "colab": {
          "base_uri": "https://localhost:8080/"
        },
        "id": "Q-i5SVDE97fy",
        "outputId": "cb09d0f1-e4c2-44ae-caa0-aa08839e110b"
      },
      "execution_count": null,
      "outputs": [
        {
          "output_type": "stream",
          "name": "stdout",
          "text": [
            "1.0\n",
            "0.9625657732472964\n",
            "Fail to reject the null hypothesis: Observed data fits the expected distribution.\n"
          ]
        }
      ]
    }
  ]
}